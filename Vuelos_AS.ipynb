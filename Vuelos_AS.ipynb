{
  "cells": [
    {
      "cell_type": "markdown",
      "metadata": {
        "id": "view-in-github",
        "colab_type": "text"
      },
      "source": [
        "<a href=\"https://colab.research.google.com/github/andrewshawl/Vuelos/blob/main/Vuelos_AS.ipynb\" target=\"_parent\"><img src=\"https://colab.research.google.com/assets/colab-badge.svg\" alt=\"Open In Colab\"/></a>"
      ]
    },
    {
      "cell_type": "code",
      "execution_count": 42,
      "metadata": {
        "colab": {
          "base_uri": "https://localhost:8080/"
        },
        "id": "h_M8EBabT-Nu",
        "outputId": "a7e19c55-2716-4046-8ef0-8fcb72fc301c"
      },
      "outputs": [
        {
          "output_type": "stream",
          "name": "stdout",
          "text": [
            "Looking in indexes: https://pypi.org/simple, https://us-python.pkg.dev/colab-wheels/public/simple/\n",
            "Requirement already satisfied: requests in /usr/local/lib/python3.7/dist-packages (2.23.0)\n",
            "Requirement already satisfied: chardet<4,>=3.0.2 in /usr/local/lib/python3.7/dist-packages (from requests) (3.0.4)\n",
            "Requirement already satisfied: idna<3,>=2.5 in /usr/local/lib/python3.7/dist-packages (from requests) (2.10)\n",
            "Requirement already satisfied: urllib3!=1.25.0,!=1.25.1,<1.26,>=1.21.1 in /usr/local/lib/python3.7/dist-packages (from requests) (1.24.3)\n",
            "Requirement already satisfied: certifi>=2017.4.17 in /usr/local/lib/python3.7/dist-packages (from requests) (2022.6.15)\n"
          ]
        }
      ],
      "source": [
        "pip install requests\n"
      ]
    },
    {
      "cell_type": "code",
      "execution_count": 43,
      "metadata": {
        "id": "7CMpbL6oTCUY"
      },
      "outputs": [],
      "source": [
        "import pandas as pd\n",
        "import requests \n",
        "import threading"
      ]
    },
    {
      "cell_type": "code",
      "source": [
        "from google.colab import drive\n",
        "drive.mount('/content/drive')"
      ],
      "metadata": {
        "colab": {
          "base_uri": "https://localhost:8080/"
        },
        "id": "NP_E_Vxi8Nlh",
        "outputId": "b79b6efe-440d-4782-d3da-b7c74e3349a5"
      },
      "execution_count": 44,
      "outputs": [
        {
          "output_type": "stream",
          "name": "stdout",
          "text": [
            "Drive already mounted at /content/drive; to attempt to forcibly remount, call drive.mount(\"/content/drive\", force_remount=True).\n"
          ]
        }
      ]
    },
    {
      "cell_type": "code",
      "execution_count": 45,
      "metadata": {
        "id": "O1lqtYNvUMDd"
      },
      "outputs": [],
      "source": [
        "# Load the data\n",
        "tickets = pd.read_csv('/content/drive/MyDrive/challenge_dataset.csv',  parse_dates=True)"
      ]
    },
    {
      "cell_type": "code",
      "source": [
        "ciudades_dest = [x for x in tickets[\"destination\"]]\n",
        "ciudades_origen = [x for x in tickets[\"origin\"]]\n",
        "ciudades = ciudades_dest + ciudades_origen\n",
        "ciudades = list( dict.fromkeys(ciudades) )\n",
        "\n",
        "\n"
      ],
      "metadata": {
        "id": "_zu-ZZX7QI8L"
      },
      "execution_count": 46,
      "outputs": []
    },
    {
      "cell_type": "code",
      "execution_count": 41,
      "metadata": {
        "id": "LMauqK9owYjj"
      },
      "outputs": [],
      "source": [
        "def temp_de_ciudades(ciudades_i, ciudades_latlon):\n",
        "  for ciudad in ciudades_i:\n",
        "    if ciudad in ciudades_origen:\n",
        "      lat=tickets[tickets[\"origin\"] == ciudad ][\"origin_latitude\"].iloc[0]\n",
        "      lon= tickets[tickets[\"origin\"] == ciudad ][\"origin_longitude\"].iloc[0] \n",
        "    else:\n",
        "      lat = tickets[tickets[\"destination\"] == ciudad ][\"destination_latitude\"].iloc[0]\n",
        "      lon= tickets[tickets[\"destination\"] == ciudad ][\"destination_longitude\"].iloc[0]\n",
        "  \n",
        "    \n",
        "    url=\"http://api.openweathermap.org/data/2.5/forecast?\" + \\\n",
        "      \"lat=\" + str(lat)+ \"&lon=\" + str(lon)+\"&cnt=5\" + \\\n",
        "      \"&appid=\" + \"d1a4fab2d46987ad898458389baa88a2\"\n",
        "\n",
        "    try:\n",
        "      response= requests.get(url)\n",
        "    except Exception as e:\n",
        "      print(f\"Error getting temp for url:{url}.\\n Skipping\")\n",
        "\n",
        "\n",
        "    weather_prev = response.json()\n",
        "\n",
        "    # La API da la temperatura cada 3 horas, asi que el 5to elemento son 12 PM\n",
        "    weather = weather_prev[\"list\"][4]\n",
        "\n",
        "\n",
        "    temp = weather[\"main\"][\"temp\"]\n",
        "    ciudades_latlon[ciudad] = (temp)\n",
        "\n",
        "\n",
        "\n",
        "\n",
        "\n",
        "\n"
      ]
    },
    {
      "cell_type": "code",
      "source": [
        "ciudades_latlon = {}\n",
        "num_threads = 3\n",
        "paso = len(ciudades) // num_threads\n",
        "modulo = len(ciudades) % num_threads\n",
        "\n",
        "# Si la division deja un residuo agregaos un thread extra\n",
        "if modulo > 0:\n",
        "  num_threads += 1\n",
        "threads = [None] * num_threads\n",
        "\n",
        "\n",
        "print(f\"Haciendo las llamadas al api de openwather en {num_threads} procesos\")\n",
        "\n",
        "\n",
        "\n",
        "for i in range(num_threads):\n",
        "    if i == num_threads - 1 and modulo > 0:\n",
        "      ciudades_i = ciudades[i*paso:(i*paso) + modulo]\n",
        "    else:\n",
        "      ciudades_i = ciudades[i*paso:(i+1)*paso]\n",
        "\n",
        "    \n",
        "    # print(ciudades_temp)\n",
        "    threads[i] = threading.Thread(target=temp_de_ciudades,\n",
        "                                  args=(ciudades_i,\n",
        "                                        ciudades_latlon))\n",
        "    threads[i].start()\n",
        "\n",
        "for i in range(num_threads):\n",
        "    threads[i].join()\n",
        "\n",
        "\n",
        "ciudades_latlon\n"
      ],
      "metadata": {
        "colab": {
          "base_uri": "https://localhost:8080/"
        },
        "id": "kUDudEm7zPB-",
        "outputId": "2f94258b-6607-4336-9185-5a2f59988297"
      },
      "execution_count": 29,
      "outputs": [
        {
          "output_type": "stream",
          "name": "stdout",
          "text": [
            "Haciendo las llamadas al api de openwather en 4 procesos\n"
          ]
        },
        {
          "output_type": "execute_result",
          "data": {
            "text/plain": [
              "{'TLC': 290.97,\n",
              " 'JFK': 301.3,\n",
              " 'SCL': 294.39,\n",
              " 'MTY': 307.59,\n",
              " 'MZT': 304.67,\n",
              " 'MEX': 295.9,\n",
              " 'ACA': 300.01,\n",
              " 'GUA': 297.6,\n",
              " 'ZIH': 303.4,\n",
              " 'TAM': 304.54,\n",
              " 'AGU': 298.29,\n",
              " 'GDL': 298.17,\n",
              " 'CJS': 300.81,\n",
              " 'VSA': 308.1,\n",
              " 'BZE': 303.15,\n",
              " 'CUN': 304.4,\n",
              " 'CZM': 302.42,\n",
              " 'DFW': 298.87,\n",
              " 'CUU': 296.29,\n",
              " 'TIJ': 300.6,\n",
              " 'ORD': 300.75,\n",
              " 'TRC': 304.86,\n",
              " 'PHX': 308.34,\n",
              " 'HMO': 304.98,\n",
              " 'QRO': 297.63,\n",
              " 'CME': 302.45,\n",
              " 'PHL': 303.24,\n",
              " 'BJX': 297.51,\n",
              " 'MID': 309.43,\n",
              " 'PBC': 294.38,\n",
              " 'CLT': 304.52,\n",
              " 'CTM': 303.8,\n",
              " 'SLP': 298.69,\n",
              " 'YYZ': 300.58,\n",
              " 'VER': 303.51,\n",
              " 'ZCL': 297.97,\n",
              " 'OAX': 298.52,\n",
              " 'LIM': 291.23,\n",
              " 'HUX': 304.82,\n",
              " 'IAH': 299.41,\n",
              " 'HAV': 306.32,\n",
              " 'PVR': 303.1,\n",
              " 'YVR': 291.91,\n",
              " 'BOG': 289.83,\n",
              " 'CDG': 299.42,\n",
              " 'MIA': 305.45,\n",
              " 'AMS': 295.65,\n",
              " 'PXM': 303.92,\n",
              " 'ATL': 303.4,\n",
              " 'LAX': 298.12,\n",
              " 'CEN': 305.28,\n",
              " 'MAD': 308.94}"
            ]
          },
          "metadata": {},
          "execution_count": 29
        }
      ]
    },
    {
      "cell_type": "code",
      "execution_count": 47,
      "metadata": {
        "colab": {
          "base_uri": "https://localhost:8080/",
          "height": 424
        },
        "id": "d9v5y90H_2DS",
        "outputId": "c5667c9d-6c3c-41b7-bc88-be215656405e"
      },
      "outputs": [
        {
          "output_type": "execute_result",
          "data": {
            "text/plain": [
              "     origin destination  flight_num  origin_weather  destination_weather\n",
              "1       MTY         TLC         119          307.59               290.97\n",
              "2       MEX         MTY        2100          295.90               307.59\n",
              "3       MTY         MEX        2101          307.59               295.90\n",
              "9       MEX         MTY        2102          295.90               307.59\n",
              "10      MTY         MEX        2103          307.59               295.90\n",
              "...     ...         ...         ...             ...                  ...\n",
              "2915    GDL         TIJ         110          298.17               300.60\n",
              "2916    MEX         GDL        1104          295.90               298.17\n",
              "2918    MEX         GDL        1120          295.90               298.17\n",
              "2919    GDL         MEX        1127          298.17               295.90\n",
              "2999    GDL         MEX         113          298.17               295.90\n",
              "\n",
              "[222 rows x 5 columns]"
            ],
            "text/html": [
              "\n",
              "  <div id=\"df-d6cc2762-0554-4177-9a4f-fb9c668b7df5\">\n",
              "    <div class=\"colab-df-container\">\n",
              "      <div>\n",
              "<style scoped>\n",
              "    .dataframe tbody tr th:only-of-type {\n",
              "        vertical-align: middle;\n",
              "    }\n",
              "\n",
              "    .dataframe tbody tr th {\n",
              "        vertical-align: top;\n",
              "    }\n",
              "\n",
              "    .dataframe thead th {\n",
              "        text-align: right;\n",
              "    }\n",
              "</style>\n",
              "<table border=\"1\" class=\"dataframe\">\n",
              "  <thead>\n",
              "    <tr style=\"text-align: right;\">\n",
              "      <th></th>\n",
              "      <th>origin</th>\n",
              "      <th>destination</th>\n",
              "      <th>flight_num</th>\n",
              "      <th>origin_weather</th>\n",
              "      <th>destination_weather</th>\n",
              "    </tr>\n",
              "  </thead>\n",
              "  <tbody>\n",
              "    <tr>\n",
              "      <th>1</th>\n",
              "      <td>MTY</td>\n",
              "      <td>TLC</td>\n",
              "      <td>119</td>\n",
              "      <td>307.59</td>\n",
              "      <td>290.97</td>\n",
              "    </tr>\n",
              "    <tr>\n",
              "      <th>2</th>\n",
              "      <td>MEX</td>\n",
              "      <td>MTY</td>\n",
              "      <td>2100</td>\n",
              "      <td>295.90</td>\n",
              "      <td>307.59</td>\n",
              "    </tr>\n",
              "    <tr>\n",
              "      <th>3</th>\n",
              "      <td>MTY</td>\n",
              "      <td>MEX</td>\n",
              "      <td>2101</td>\n",
              "      <td>307.59</td>\n",
              "      <td>295.90</td>\n",
              "    </tr>\n",
              "    <tr>\n",
              "      <th>9</th>\n",
              "      <td>MEX</td>\n",
              "      <td>MTY</td>\n",
              "      <td>2102</td>\n",
              "      <td>295.90</td>\n",
              "      <td>307.59</td>\n",
              "    </tr>\n",
              "    <tr>\n",
              "      <th>10</th>\n",
              "      <td>MTY</td>\n",
              "      <td>MEX</td>\n",
              "      <td>2103</td>\n",
              "      <td>307.59</td>\n",
              "      <td>295.90</td>\n",
              "    </tr>\n",
              "    <tr>\n",
              "      <th>...</th>\n",
              "      <td>...</td>\n",
              "      <td>...</td>\n",
              "      <td>...</td>\n",
              "      <td>...</td>\n",
              "      <td>...</td>\n",
              "    </tr>\n",
              "    <tr>\n",
              "      <th>2915</th>\n",
              "      <td>GDL</td>\n",
              "      <td>TIJ</td>\n",
              "      <td>110</td>\n",
              "      <td>298.17</td>\n",
              "      <td>300.60</td>\n",
              "    </tr>\n",
              "    <tr>\n",
              "      <th>2916</th>\n",
              "      <td>MEX</td>\n",
              "      <td>GDL</td>\n",
              "      <td>1104</td>\n",
              "      <td>295.90</td>\n",
              "      <td>298.17</td>\n",
              "    </tr>\n",
              "    <tr>\n",
              "      <th>2918</th>\n",
              "      <td>MEX</td>\n",
              "      <td>GDL</td>\n",
              "      <td>1120</td>\n",
              "      <td>295.90</td>\n",
              "      <td>298.17</td>\n",
              "    </tr>\n",
              "    <tr>\n",
              "      <th>2919</th>\n",
              "      <td>GDL</td>\n",
              "      <td>MEX</td>\n",
              "      <td>1127</td>\n",
              "      <td>298.17</td>\n",
              "      <td>295.90</td>\n",
              "    </tr>\n",
              "    <tr>\n",
              "      <th>2999</th>\n",
              "      <td>GDL</td>\n",
              "      <td>MEX</td>\n",
              "      <td>113</td>\n",
              "      <td>298.17</td>\n",
              "      <td>295.90</td>\n",
              "    </tr>\n",
              "  </tbody>\n",
              "</table>\n",
              "<p>222 rows × 5 columns</p>\n",
              "</div>\n",
              "      <button class=\"colab-df-convert\" onclick=\"convertToInteractive('df-d6cc2762-0554-4177-9a4f-fb9c668b7df5')\"\n",
              "              title=\"Convert this dataframe to an interactive table.\"\n",
              "              style=\"display:none;\">\n",
              "        \n",
              "  <svg xmlns=\"http://www.w3.org/2000/svg\" height=\"24px\"viewBox=\"0 0 24 24\"\n",
              "       width=\"24px\">\n",
              "    <path d=\"M0 0h24v24H0V0z\" fill=\"none\"/>\n",
              "    <path d=\"M18.56 5.44l.94 2.06.94-2.06 2.06-.94-2.06-.94-.94-2.06-.94 2.06-2.06.94zm-11 1L8.5 8.5l.94-2.06 2.06-.94-2.06-.94L8.5 2.5l-.94 2.06-2.06.94zm10 10l.94 2.06.94-2.06 2.06-.94-2.06-.94-.94-2.06-.94 2.06-2.06.94z\"/><path d=\"M17.41 7.96l-1.37-1.37c-.4-.4-.92-.59-1.43-.59-.52 0-1.04.2-1.43.59L10.3 9.45l-7.72 7.72c-.78.78-.78 2.05 0 2.83L4 21.41c.39.39.9.59 1.41.59.51 0 1.02-.2 1.41-.59l7.78-7.78 2.81-2.81c.8-.78.8-2.07 0-2.86zM5.41 20L4 18.59l7.72-7.72 1.47 1.35L5.41 20z\"/>\n",
              "  </svg>\n",
              "      </button>\n",
              "      \n",
              "  <style>\n",
              "    .colab-df-container {\n",
              "      display:flex;\n",
              "      flex-wrap:wrap;\n",
              "      gap: 12px;\n",
              "    }\n",
              "\n",
              "    .colab-df-convert {\n",
              "      background-color: #E8F0FE;\n",
              "      border: none;\n",
              "      border-radius: 50%;\n",
              "      cursor: pointer;\n",
              "      display: none;\n",
              "      fill: #1967D2;\n",
              "      height: 32px;\n",
              "      padding: 0 0 0 0;\n",
              "      width: 32px;\n",
              "    }\n",
              "\n",
              "    .colab-df-convert:hover {\n",
              "      background-color: #E2EBFA;\n",
              "      box-shadow: 0px 1px 2px rgba(60, 64, 67, 0.3), 0px 1px 3px 1px rgba(60, 64, 67, 0.15);\n",
              "      fill: #174EA6;\n",
              "    }\n",
              "\n",
              "    [theme=dark] .colab-df-convert {\n",
              "      background-color: #3B4455;\n",
              "      fill: #D2E3FC;\n",
              "    }\n",
              "\n",
              "    [theme=dark] .colab-df-convert:hover {\n",
              "      background-color: #434B5C;\n",
              "      box-shadow: 0px 1px 3px 1px rgba(0, 0, 0, 0.15);\n",
              "      filter: drop-shadow(0px 1px 2px rgba(0, 0, 0, 0.3));\n",
              "      fill: #FFFFFF;\n",
              "    }\n",
              "  </style>\n",
              "\n",
              "      <script>\n",
              "        const buttonEl =\n",
              "          document.querySelector('#df-d6cc2762-0554-4177-9a4f-fb9c668b7df5 button.colab-df-convert');\n",
              "        buttonEl.style.display =\n",
              "          google.colab.kernel.accessAllowed ? 'block' : 'none';\n",
              "\n",
              "        async function convertToInteractive(key) {\n",
              "          const element = document.querySelector('#df-d6cc2762-0554-4177-9a4f-fb9c668b7df5');\n",
              "          const dataTable =\n",
              "            await google.colab.kernel.invokeFunction('convertToInteractive',\n",
              "                                                     [key], {});\n",
              "          if (!dataTable) return;\n",
              "\n",
              "          const docLinkHtml = 'Like what you see? Visit the ' +\n",
              "            '<a target=\"_blank\" href=https://colab.research.google.com/notebooks/data_table.ipynb>data table notebook</a>'\n",
              "            + ' to learn more about interactive tables.';\n",
              "          element.innerHTML = '';\n",
              "          dataTable['output_type'] = 'display_data';\n",
              "          await google.colab.output.renderOutput(dataTable, element);\n",
              "          const docLink = document.createElement('div');\n",
              "          docLink.innerHTML = docLinkHtml;\n",
              "          element.appendChild(docLink);\n",
              "        }\n",
              "      </script>\n",
              "    </div>\n",
              "  </div>\n",
              "  "
            ]
          },
          "metadata": {},
          "execution_count": 47
        }
      ],
      "source": [
        "tickets_reduced= tickets[[\"origin\",\"destination\",\"flight_num\"]]\n",
        "tickets_reduced=tickets_reduced.drop_duplicates(subset=\"flight_num\", keep= \"last\")\n",
        "temp_origen = [ciudades_latlon[x] for x in tickets_reduced[\"origin\"] ]\n",
        "temp_destiny=[ciudades_latlon[x] for x in tickets_reduced[\"destination\"] ]\n",
        "\n",
        "tickets_reduced[\"origin_weather\"]=temp_origen\n",
        "tickets_reduced['destination_weather']=temp_destiny \n",
        "tickets_reduced"
      ]
    }
  ],
  "metadata": {
    "colab": {
      "name": "Vuelos_AS",
      "provenance": [],
      "include_colab_link": true
    },
    "kernelspec": {
      "display_name": "Python 3",
      "name": "python3"
    },
    "language_info": {
      "name": "python"
    }
  },
  "nbformat": 4,
  "nbformat_minor": 0
}